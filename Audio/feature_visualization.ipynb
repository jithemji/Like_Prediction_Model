{
  "nbformat": 4,
  "nbformat_minor": 0,
  "metadata": {
    "colab": {
      "name": "feature visualization.ipynb",
      "provenance": [],
      "collapsed_sections": [],
      "authorship_tag": "ABX9TyMSnfwcrNiH9qgUlT8WMX24",
      "include_colab_link": true
    },
    "kernelspec": {
      "name": "python3",
      "display_name": "Python 3"
    },
    "language_info": {
      "name": "python"
    }
  },
  "cells": [
    {
      "cell_type": "markdown",
      "metadata": {
        "id": "view-in-github",
        "colab_type": "text"
      },
      "source": [
        "<a href=\"https://colab.research.google.com/github/jithemji/Like_Prediction_Model/blob/main/Audio/feature_visualization.ipynb\" target=\"_parent\"><img src=\"https://colab.research.google.com/assets/colab-badge.svg\" alt=\"Open In Colab\"/></a>"
      ]
    },
    {
      "cell_type": "code",
      "metadata": {
        "id": "nsgXVyihHs8G"
      },
      "source": [
        "import numpy as np\n",
        "import pandas as pd\n",
        "import matplotlib.pyplot as plt\n",
        "%matplotlib inline"
      ],
      "execution_count": 2,
      "outputs": []
    },
    {
      "cell_type": "code",
      "metadata": {
        "id": "tMoHgR5uIT0N"
      },
      "source": [
        "df=pd.read_csv('/content/drive/MyDrive/video content analysis/data.csv')"
      ],
      "execution_count": 4,
      "outputs": []
    },
    {
      "cell_type": "code",
      "metadata": {
        "colab": {
          "base_uri": "https://localhost:8080/",
          "height": 269
        },
        "id": "qeWlr8a0Iy5Y",
        "outputId": "b0cdc6a8-591f-4f22-8d68-bcdb87dc7339"
      },
      "source": [
        "df.head()"
      ],
      "execution_count": 5,
      "outputs": [
        {
          "output_type": "execute_result",
          "data": {
            "text/html": [
              "<div>\n",
              "<style scoped>\n",
              "    .dataframe tbody tr th:only-of-type {\n",
              "        vertical-align: middle;\n",
              "    }\n",
              "\n",
              "    .dataframe tbody tr th {\n",
              "        vertical-align: top;\n",
              "    }\n",
              "\n",
              "    .dataframe thead th {\n",
              "        text-align: right;\n",
              "    }\n",
              "</style>\n",
              "<table border=\"1\" class=\"dataframe\">\n",
              "  <thead>\n",
              "    <tr style=\"text-align: right;\">\n",
              "      <th></th>\n",
              "      <th>Unnamed: 0</th>\n",
              "      <th>spec_bw_mean</th>\n",
              "      <th>spec_bw_med</th>\n",
              "      <th>spec_bw_std</th>\n",
              "      <th>spec_bw_max</th>\n",
              "      <th>spec_bw_min</th>\n",
              "      <th>spec_rolloff_mean</th>\n",
              "      <th>spec_rolloff_med</th>\n",
              "      <th>spec_rolloff_std</th>\n",
              "      <th>spec_rolloff_max</th>\n",
              "      <th>spec_rolloff_min</th>\n",
              "      <th>spec_cent_mean</th>\n",
              "      <th>spec_cent_med</th>\n",
              "      <th>spec_cent_std</th>\n",
              "      <th>spec_cent_max</th>\n",
              "      <th>spec_cent_min</th>\n",
              "      <th>mfcc1_mean</th>\n",
              "      <th>mfcc2_mean</th>\n",
              "      <th>mfcc3_mean</th>\n",
              "      <th>mfcc4_mean</th>\n",
              "      <th>mfcc5_mean</th>\n",
              "      <th>mfcc6_mean</th>\n",
              "      <th>mfcc7_mean</th>\n",
              "      <th>mfcc8_mean</th>\n",
              "      <th>mfcc9_mean</th>\n",
              "      <th>mfcc10_mean</th>\n",
              "      <th>mfcc11_mean</th>\n",
              "      <th>mfcc12_mean</th>\n",
              "      <th>mfcc13_mean</th>\n",
              "      <th>mfcc14_mean</th>\n",
              "      <th>mfcc15_mean</th>\n",
              "      <th>mfcc16_mean</th>\n",
              "      <th>mfcc17_mean</th>\n",
              "      <th>mfcc18_mean</th>\n",
              "      <th>mfcc19_mean</th>\n",
              "      <th>mfcc20_mean</th>\n",
              "      <th>mfcc1_med</th>\n",
              "      <th>mfcc2_med</th>\n",
              "      <th>mfcc3_med</th>\n",
              "      <th>mfcc4_med</th>\n",
              "      <th>...</th>\n",
              "      <th>chr4_std</th>\n",
              "      <th>chr5_std</th>\n",
              "      <th>chr6_std</th>\n",
              "      <th>chr7_std</th>\n",
              "      <th>chr8_std</th>\n",
              "      <th>chr9_std</th>\n",
              "      <th>chr10_std</th>\n",
              "      <th>chr11_std</th>\n",
              "      <th>chr12_std</th>\n",
              "      <th>chr1_max</th>\n",
              "      <th>chr2_max</th>\n",
              "      <th>chr3_max</th>\n",
              "      <th>chr4_max</th>\n",
              "      <th>chr5_max</th>\n",
              "      <th>chr6_max</th>\n",
              "      <th>chr7_max</th>\n",
              "      <th>chr8_max</th>\n",
              "      <th>chr9_max</th>\n",
              "      <th>chr10_max</th>\n",
              "      <th>chr11_max</th>\n",
              "      <th>chr12_max</th>\n",
              "      <th>chr1_min</th>\n",
              "      <th>chr2_min</th>\n",
              "      <th>chr3_min</th>\n",
              "      <th>chr4_min</th>\n",
              "      <th>chr5_min</th>\n",
              "      <th>chr6_min</th>\n",
              "      <th>chr7_min</th>\n",
              "      <th>chr8_min</th>\n",
              "      <th>chr9_min</th>\n",
              "      <th>chr10_min</th>\n",
              "      <th>chr11_min</th>\n",
              "      <th>chr12_min</th>\n",
              "      <th>zcrr_mean</th>\n",
              "      <th>zcrr_med</th>\n",
              "      <th>zcrr_std</th>\n",
              "      <th>zcrr_max</th>\n",
              "      <th>zcrr_min</th>\n",
              "      <th>zcr</th>\n",
              "      <th>views</th>\n",
              "    </tr>\n",
              "  </thead>\n",
              "  <tbody>\n",
              "    <tr>\n",
              "      <th>0</th>\n",
              "      <td>1</td>\n",
              "      <td>2030.179674</td>\n",
              "      <td>1959.794710</td>\n",
              "      <td>767.787559</td>\n",
              "      <td>4030.921517</td>\n",
              "      <td>0.0</td>\n",
              "      <td>3525.032766</td>\n",
              "      <td>2530.151367</td>\n",
              "      <td>2676.325996</td>\n",
              "      <td>9808.374023</td>\n",
              "      <td>0.0</td>\n",
              "      <td>1774.638080</td>\n",
              "      <td>1259.221313</td>\n",
              "      <td>1358.294604</td>\n",
              "      <td>7224.937542</td>\n",
              "      <td>0.0</td>\n",
              "      <td>-311.057678</td>\n",
              "      <td>94.171326</td>\n",
              "      <td>34.061352</td>\n",
              "      <td>29.690777</td>\n",
              "      <td>11.202586</td>\n",
              "      <td>-3.855678</td>\n",
              "      <td>-14.581732</td>\n",
              "      <td>-7.805006</td>\n",
              "      <td>-11.418423</td>\n",
              "      <td>-4.223622</td>\n",
              "      <td>-10.954490</td>\n",
              "      <td>-4.522069</td>\n",
              "      <td>-10.953578</td>\n",
              "      <td>-11.617891</td>\n",
              "      <td>-7.339822</td>\n",
              "      <td>-7.037759</td>\n",
              "      <td>-12.195661</td>\n",
              "      <td>-8.960283</td>\n",
              "      <td>-8.032277</td>\n",
              "      <td>-4.617074</td>\n",
              "      <td>-302.867523</td>\n",
              "      <td>99.676758</td>\n",
              "      <td>33.680344</td>\n",
              "      <td>27.779488</td>\n",
              "      <td>...</td>\n",
              "      <td>0.313277</td>\n",
              "      <td>0.304166</td>\n",
              "      <td>0.284614</td>\n",
              "      <td>0.283951</td>\n",
              "      <td>0.310423</td>\n",
              "      <td>0.312458</td>\n",
              "      <td>0.356056</td>\n",
              "      <td>0.327770</td>\n",
              "      <td>0.311138</td>\n",
              "      <td>1</td>\n",
              "      <td>1</td>\n",
              "      <td>1</td>\n",
              "      <td>1</td>\n",
              "      <td>1</td>\n",
              "      <td>1</td>\n",
              "      <td>1</td>\n",
              "      <td>1</td>\n",
              "      <td>1</td>\n",
              "      <td>1</td>\n",
              "      <td>1</td>\n",
              "      <td>1</td>\n",
              "      <td>0.0</td>\n",
              "      <td>0.0</td>\n",
              "      <td>0.0</td>\n",
              "      <td>0.0</td>\n",
              "      <td>0.0</td>\n",
              "      <td>0.0</td>\n",
              "      <td>0.0</td>\n",
              "      <td>0.0</td>\n",
              "      <td>0.0</td>\n",
              "      <td>0.0</td>\n",
              "      <td>0.0</td>\n",
              "      <td>0.0</td>\n",
              "      <td>0.085045</td>\n",
              "      <td>0</td>\n",
              "      <td>0</td>\n",
              "      <td>0</td>\n",
              "      <td>0</td>\n",
              "      <td>2227741</td>\n",
              "      <td>8851</td>\n",
              "    </tr>\n",
              "    <tr>\n",
              "      <th>1</th>\n",
              "      <td>2</td>\n",
              "      <td>1967.731461</td>\n",
              "      <td>1845.441185</td>\n",
              "      <td>770.644383</td>\n",
              "      <td>4083.123843</td>\n",
              "      <td>0.0</td>\n",
              "      <td>3401.332634</td>\n",
              "      <td>2519.384766</td>\n",
              "      <td>2615.419731</td>\n",
              "      <td>9969.873047</td>\n",
              "      <td>0.0</td>\n",
              "      <td>1718.093009</td>\n",
              "      <td>1187.677272</td>\n",
              "      <td>1352.818225</td>\n",
              "      <td>7398.308626</td>\n",
              "      <td>0.0</td>\n",
              "      <td>-361.651764</td>\n",
              "      <td>91.266083</td>\n",
              "      <td>32.434723</td>\n",
              "      <td>34.830757</td>\n",
              "      <td>11.771287</td>\n",
              "      <td>-8.585844</td>\n",
              "      <td>-8.699321</td>\n",
              "      <td>-8.397955</td>\n",
              "      <td>-10.665344</td>\n",
              "      <td>-2.073390</td>\n",
              "      <td>-9.737555</td>\n",
              "      <td>-2.214098</td>\n",
              "      <td>-9.429249</td>\n",
              "      <td>-11.337292</td>\n",
              "      <td>-6.260693</td>\n",
              "      <td>-6.980236</td>\n",
              "      <td>-11.093098</td>\n",
              "      <td>-7.290222</td>\n",
              "      <td>-8.240770</td>\n",
              "      <td>-6.332847</td>\n",
              "      <td>-356.499817</td>\n",
              "      <td>97.972839</td>\n",
              "      <td>31.938801</td>\n",
              "      <td>30.880535</td>\n",
              "      <td>...</td>\n",
              "      <td>0.306892</td>\n",
              "      <td>0.297565</td>\n",
              "      <td>0.284198</td>\n",
              "      <td>0.274651</td>\n",
              "      <td>0.309688</td>\n",
              "      <td>0.310720</td>\n",
              "      <td>0.358056</td>\n",
              "      <td>0.345166</td>\n",
              "      <td>0.339502</td>\n",
              "      <td>1</td>\n",
              "      <td>1</td>\n",
              "      <td>1</td>\n",
              "      <td>1</td>\n",
              "      <td>1</td>\n",
              "      <td>1</td>\n",
              "      <td>1</td>\n",
              "      <td>1</td>\n",
              "      <td>1</td>\n",
              "      <td>1</td>\n",
              "      <td>1</td>\n",
              "      <td>1</td>\n",
              "      <td>0.0</td>\n",
              "      <td>0.0</td>\n",
              "      <td>0.0</td>\n",
              "      <td>0.0</td>\n",
              "      <td>0.0</td>\n",
              "      <td>0.0</td>\n",
              "      <td>0.0</td>\n",
              "      <td>0.0</td>\n",
              "      <td>0.0</td>\n",
              "      <td>0.0</td>\n",
              "      <td>0.0</td>\n",
              "      <td>0.0</td>\n",
              "      <td>0.083942</td>\n",
              "      <td>0</td>\n",
              "      <td>0</td>\n",
              "      <td>0</td>\n",
              "      <td>0</td>\n",
              "      <td>3999863</td>\n",
              "      <td>9309</td>\n",
              "    </tr>\n",
              "    <tr>\n",
              "      <th>2</th>\n",
              "      <td>3</td>\n",
              "      <td>2044.636279</td>\n",
              "      <td>1982.546630</td>\n",
              "      <td>729.270852</td>\n",
              "      <td>4007.884699</td>\n",
              "      <td>0.0</td>\n",
              "      <td>3568.594847</td>\n",
              "      <td>2670.117188</td>\n",
              "      <td>2577.664876</td>\n",
              "      <td>9819.140625</td>\n",
              "      <td>0.0</td>\n",
              "      <td>1802.686516</td>\n",
              "      <td>1324.612270</td>\n",
              "      <td>1365.368198</td>\n",
              "      <td>7236.673217</td>\n",
              "      <td>0.0</td>\n",
              "      <td>-347.294312</td>\n",
              "      <td>86.350319</td>\n",
              "      <td>31.360334</td>\n",
              "      <td>27.287346</td>\n",
              "      <td>9.481331</td>\n",
              "      <td>-3.302117</td>\n",
              "      <td>-13.474671</td>\n",
              "      <td>-5.922333</td>\n",
              "      <td>-8.130700</td>\n",
              "      <td>-2.624264</td>\n",
              "      <td>-10.443044</td>\n",
              "      <td>-4.017173</td>\n",
              "      <td>-11.584930</td>\n",
              "      <td>-11.529947</td>\n",
              "      <td>-4.872400</td>\n",
              "      <td>-7.373795</td>\n",
              "      <td>-12.066875</td>\n",
              "      <td>-7.782693</td>\n",
              "      <td>-6.797484</td>\n",
              "      <td>-4.689390</td>\n",
              "      <td>-343.298096</td>\n",
              "      <td>90.184151</td>\n",
              "      <td>30.702362</td>\n",
              "      <td>26.429190</td>\n",
              "      <td>...</td>\n",
              "      <td>0.322622</td>\n",
              "      <td>0.305208</td>\n",
              "      <td>0.294705</td>\n",
              "      <td>0.292014</td>\n",
              "      <td>0.323169</td>\n",
              "      <td>0.326954</td>\n",
              "      <td>0.359934</td>\n",
              "      <td>0.350636</td>\n",
              "      <td>0.332649</td>\n",
              "      <td>1</td>\n",
              "      <td>1</td>\n",
              "      <td>1</td>\n",
              "      <td>1</td>\n",
              "      <td>1</td>\n",
              "      <td>1</td>\n",
              "      <td>1</td>\n",
              "      <td>1</td>\n",
              "      <td>1</td>\n",
              "      <td>1</td>\n",
              "      <td>1</td>\n",
              "      <td>1</td>\n",
              "      <td>0.0</td>\n",
              "      <td>0.0</td>\n",
              "      <td>0.0</td>\n",
              "      <td>0.0</td>\n",
              "      <td>0.0</td>\n",
              "      <td>0.0</td>\n",
              "      <td>0.0</td>\n",
              "      <td>0.0</td>\n",
              "      <td>0.0</td>\n",
              "      <td>0.0</td>\n",
              "      <td>0.0</td>\n",
              "      <td>0.0</td>\n",
              "      <td>0.086255</td>\n",
              "      <td>0</td>\n",
              "      <td>0</td>\n",
              "      <td>0</td>\n",
              "      <td>0</td>\n",
              "      <td>4987522</td>\n",
              "      <td>7308</td>\n",
              "    </tr>\n",
              "    <tr>\n",
              "      <th>3</th>\n",
              "      <td>4</td>\n",
              "      <td>1959.562193</td>\n",
              "      <td>1813.899556</td>\n",
              "      <td>702.683395</td>\n",
              "      <td>3817.752630</td>\n",
              "      <td>0.0</td>\n",
              "      <td>3520.755915</td>\n",
              "      <td>2745.483398</td>\n",
              "      <td>2412.516224</td>\n",
              "      <td>9754.541016</td>\n",
              "      <td>0.0</td>\n",
              "      <td>1786.806745</td>\n",
              "      <td>1311.626942</td>\n",
              "      <td>1270.340341</td>\n",
              "      <td>7162.829820</td>\n",
              "      <td>0.0</td>\n",
              "      <td>-235.007584</td>\n",
              "      <td>93.845879</td>\n",
              "      <td>19.240696</td>\n",
              "      <td>37.409462</td>\n",
              "      <td>8.292507</td>\n",
              "      <td>-6.540430</td>\n",
              "      <td>-11.751071</td>\n",
              "      <td>-9.049055</td>\n",
              "      <td>-14.196241</td>\n",
              "      <td>-1.067007</td>\n",
              "      <td>-10.400985</td>\n",
              "      <td>-1.162823</td>\n",
              "      <td>-5.652502</td>\n",
              "      <td>-9.449134</td>\n",
              "      <td>-6.270150</td>\n",
              "      <td>-6.208694</td>\n",
              "      <td>-11.589703</td>\n",
              "      <td>-4.522139</td>\n",
              "      <td>-5.999825</td>\n",
              "      <td>-6.438097</td>\n",
              "      <td>-219.741196</td>\n",
              "      <td>105.073891</td>\n",
              "      <td>23.469452</td>\n",
              "      <td>32.754745</td>\n",
              "      <td>...</td>\n",
              "      <td>0.311734</td>\n",
              "      <td>0.309946</td>\n",
              "      <td>0.306484</td>\n",
              "      <td>0.333297</td>\n",
              "      <td>0.355568</td>\n",
              "      <td>0.327954</td>\n",
              "      <td>0.341778</td>\n",
              "      <td>0.330263</td>\n",
              "      <td>0.332495</td>\n",
              "      <td>1</td>\n",
              "      <td>1</td>\n",
              "      <td>1</td>\n",
              "      <td>1</td>\n",
              "      <td>1</td>\n",
              "      <td>1</td>\n",
              "      <td>1</td>\n",
              "      <td>1</td>\n",
              "      <td>1</td>\n",
              "      <td>1</td>\n",
              "      <td>1</td>\n",
              "      <td>1</td>\n",
              "      <td>0.0</td>\n",
              "      <td>0.0</td>\n",
              "      <td>0.0</td>\n",
              "      <td>0.0</td>\n",
              "      <td>0.0</td>\n",
              "      <td>0.0</td>\n",
              "      <td>0.0</td>\n",
              "      <td>0.0</td>\n",
              "      <td>0.0</td>\n",
              "      <td>0.0</td>\n",
              "      <td>0.0</td>\n",
              "      <td>0.0</td>\n",
              "      <td>0.089454</td>\n",
              "      <td>0</td>\n",
              "      <td>0</td>\n",
              "      <td>0</td>\n",
              "      <td>0</td>\n",
              "      <td>2594549</td>\n",
              "      <td>4099</td>\n",
              "    </tr>\n",
              "    <tr>\n",
              "      <th>4</th>\n",
              "      <td>5</td>\n",
              "      <td>2154.297542</td>\n",
              "      <td>2206.503147</td>\n",
              "      <td>712.111477</td>\n",
              "      <td>3984.520622</td>\n",
              "      <td>0.0</td>\n",
              "      <td>4075.635357</td>\n",
              "      <td>4177.441406</td>\n",
              "      <td>2530.993395</td>\n",
              "      <td>9894.506836</td>\n",
              "      <td>0.0</td>\n",
              "      <td>2025.634398</td>\n",
              "      <td>1786.966229</td>\n",
              "      <td>1347.233446</td>\n",
              "      <td>7493.963012</td>\n",
              "      <td>0.0</td>\n",
              "      <td>-320.463348</td>\n",
              "      <td>74.869011</td>\n",
              "      <td>30.760990</td>\n",
              "      <td>42.097054</td>\n",
              "      <td>8.144476</td>\n",
              "      <td>-4.258576</td>\n",
              "      <td>-4.178467</td>\n",
              "      <td>-10.357195</td>\n",
              "      <td>-9.733069</td>\n",
              "      <td>-2.317397</td>\n",
              "      <td>-9.527082</td>\n",
              "      <td>-0.947373</td>\n",
              "      <td>-8.525039</td>\n",
              "      <td>-11.315473</td>\n",
              "      <td>-7.922903</td>\n",
              "      <td>-6.040540</td>\n",
              "      <td>-10.546000</td>\n",
              "      <td>-5.438093</td>\n",
              "      <td>-7.231313</td>\n",
              "      <td>-6.406849</td>\n",
              "      <td>-323.665558</td>\n",
              "      <td>71.068001</td>\n",
              "      <td>28.088217</td>\n",
              "      <td>36.023403</td>\n",
              "      <td>...</td>\n",
              "      <td>0.297025</td>\n",
              "      <td>0.293111</td>\n",
              "      <td>0.277619</td>\n",
              "      <td>0.290562</td>\n",
              "      <td>0.311952</td>\n",
              "      <td>0.281808</td>\n",
              "      <td>0.313635</td>\n",
              "      <td>0.308084</td>\n",
              "      <td>0.349771</td>\n",
              "      <td>1</td>\n",
              "      <td>1</td>\n",
              "      <td>1</td>\n",
              "      <td>1</td>\n",
              "      <td>1</td>\n",
              "      <td>1</td>\n",
              "      <td>1</td>\n",
              "      <td>1</td>\n",
              "      <td>1</td>\n",
              "      <td>1</td>\n",
              "      <td>1</td>\n",
              "      <td>1</td>\n",
              "      <td>0.0</td>\n",
              "      <td>0.0</td>\n",
              "      <td>0.0</td>\n",
              "      <td>0.0</td>\n",
              "      <td>0.0</td>\n",
              "      <td>0.0</td>\n",
              "      <td>0.0</td>\n",
              "      <td>0.0</td>\n",
              "      <td>0.0</td>\n",
              "      <td>0.0</td>\n",
              "      <td>0.0</td>\n",
              "      <td>0.0</td>\n",
              "      <td>0.095819</td>\n",
              "      <td>0</td>\n",
              "      <td>0</td>\n",
              "      <td>0</td>\n",
              "      <td>0</td>\n",
              "      <td>3507443</td>\n",
              "      <td>2812</td>\n",
              "    </tr>\n",
              "  </tbody>\n",
              "</table>\n",
              "<p>5 rows × 183 columns</p>\n",
              "</div>"
            ],
            "text/plain": [
              "   Unnamed: 0  spec_bw_mean  spec_bw_med  ...  zcrr_min      zcr  views\n",
              "0           1   2030.179674  1959.794710  ...         0  2227741   8851\n",
              "1           2   1967.731461  1845.441185  ...         0  3999863   9309\n",
              "2           3   2044.636279  1982.546630  ...         0  4987522   7308\n",
              "3           4   1959.562193  1813.899556  ...         0  2594549   4099\n",
              "4           5   2154.297542  2206.503147  ...         0  3507443   2812\n",
              "\n",
              "[5 rows x 183 columns]"
            ]
          },
          "metadata": {},
          "execution_count": 5
        }
      ]
    },
    {
      "cell_type": "code",
      "metadata": {
        "colab": {
          "base_uri": "https://localhost:8080/"
        },
        "id": "ffi8MIj2Iy82",
        "outputId": "fd65498a-27dd-41fa-bd08-69c1c1ad8a45"
      },
      "source": [
        "df.info()"
      ],
      "execution_count": 6,
      "outputs": [
        {
          "output_type": "stream",
          "name": "stdout",
          "text": [
            "<class 'pandas.core.frame.DataFrame'>\n",
            "RangeIndex: 8 entries, 0 to 7\n",
            "Columns: 183 entries, Unnamed: 0 to views\n",
            "dtypes: float64(164), int64(19)\n",
            "memory usage: 11.6 KB\n"
          ]
        }
      ]
    },
    {
      "cell_type": "code",
      "metadata": {
        "id": "VeAm9pnQIzCZ",
        "colab": {
          "base_uri": "https://localhost:8080/",
          "height": 297
        },
        "outputId": "d4b38af7-a812-4053-967d-766b48b8b67e"
      },
      "source": [
        "df.plot.scatter(x='spec_bw_std',y='views')"
      ],
      "execution_count": 7,
      "outputs": [
        {
          "output_type": "execute_result",
          "data": {
            "text/plain": [
              "<matplotlib.axes._subplots.AxesSubplot at 0x7f8864c33410>"
            ]
          },
          "metadata": {},
          "execution_count": 7
        },
        {
          "output_type": "display_data",
          "data": {
            "image/png": "[encoded data removed]",
            "text/plain": [
              "<Figure size 432x288 with 1 Axes>"
            ]
          },
          "metadata": {
            "needs_background": "light"
          }
        }
      ]
    },
    {
      "cell_type": "code",
      "metadata": {
        "id": "7WDZ2CfNIzE1",
        "colab": {
          "base_uri": "https://localhost:8080/",
          "height": 297
        },
        "outputId": "ec2ba9e2-fb3f-43a3-9a71-06d487eb7530"
      },
      "source": [
        "df.plot.scatter(x='spec_rolloff_std',y='views')"
      ],
      "execution_count": 8,
      "outputs": [
        {
          "output_type": "execute_result",
          "data": {
            "text/plain": [
              "<matplotlib.axes._subplots.AxesSubplot at 0x7f886491f210>"
            ]
          },
          "metadata": {},
          "execution_count": 8
        },
        {
          "output_type": "display_data",
          "data": {
            "image/png": "[encoded data removed]",
            "text/plain": [
              "<Figure size 432x288 with 1 Axes>"
            ]
          },
          "metadata": {
            "needs_background": "light"
          }
        }
      ]
    },
    {
      "cell_type": "code",
      "metadata": {
        "id": "yX0x6-9cIzHr",
        "colab": {
          "base_uri": "https://localhost:8080/",
          "height": 297
        },
        "outputId": "31515370-04d9-4357-e474-898af9a8db62"
      },
      "source": [
        "df.plot.scatter(x='spec_cent_std',y='views')"
      ],
      "execution_count": 9,
      "outputs": [
        {
          "output_type": "execute_result",
          "data": {
            "text/plain": [
              "<matplotlib.axes._subplots.AxesSubplot at 0x7f8864900510>"
            ]
          },
          "metadata": {},
          "execution_count": 9
        },
        {
          "output_type": "display_data",
          "data": {
            "image/png": "[encoded data removed]",
            "text/plain": [
              "<Figure size 432x288 with 1 Axes>"
            ]
          },
          "metadata": {
            "needs_background": "light"
          }
        }
      ]
    },
    {
      "cell_type": "code",
      "metadata": {
        "colab": {
          "base_uri": "https://localhost:8080/",
          "height": 296
        },
        "id": "1CmFbNn-CE3g",
        "outputId": "b16970ed-04e7-4985-fc29-f611c74c27e8"
      },
      "source": [
        "df.plot.scatter(x='zcrr_mean',y='views')"
      ],
      "execution_count": 11,
      "outputs": [
        {
          "output_type": "execute_result",
          "data": {
            "text/plain": [
              "<matplotlib.axes._subplots.AxesSubplot at 0x7f88643252d0>"
            ]
          },
          "metadata": {},
          "execution_count": 11
        },
        {
          "output_type": "display_data",
          "data": {
            "image/png": "[encoded data removed]",
            "text/plain": [
              "<Figure size 432x288 with 1 Axes>"
            ]
          },
          "metadata": {
            "needs_background": "light"
          }
        }
      ]
    },
    {
      "cell_type": "code",
      "metadata": {
        "id": "sJ_vbAArCE-U"
      },
      "source": [
        ""
      ],
      "execution_count": null,
      "outputs": []
    },
    {
      "cell_type": "code",
      "metadata": {
        "id": "YkO63PdXCFA5"
      },
      "source": [
        ""
      ],
      "execution_count": null,
      "outputs": []
    },
    {
      "cell_type": "code",
      "metadata": {
        "id": "sY4cHaW-CFD_"
      },
      "source": [
        ""
      ],
      "execution_count": null,
      "outputs": []
    },
    {
      "cell_type": "code",
      "metadata": {
        "id": "vAtUZyEuCFGU"
      },
      "source": [
        ""
      ],
      "execution_count": null,
      "outputs": []
    },
    {
      "cell_type": "code",
      "metadata": {
        "id": "KQdyg_o9CFI8"
      },
      "source": [
        ""
      ],
      "execution_count": null,
      "outputs": []
    },
    {
      "cell_type": "code",
      "metadata": {
        "id": "CNjPh6IlCFLe"
      },
      "source": [
        ""
      ],
      "execution_count": null,
      "outputs": []
    },
    {
      "cell_type": "code",
      "metadata": {
        "id": "60JL5udcCFOL"
      },
      "source": [
        ""
      ],
      "execution_count": null,
      "outputs": []
    },
    {
      "cell_type": "code",
      "metadata": {
        "id": "NepYCnHTCFRR"
      },
      "source": [
        ""
      ],
      "execution_count": null,
      "outputs": []
    },
    {
      "cell_type": "code",
      "metadata": {
        "id": "Bht1uhfzCFTr"
      },
      "source": [
        ""
      ],
      "execution_count": null,
      "outputs": []
    },
    {
      "cell_type": "code",
      "metadata": {
        "id": "M1oo_fsDCFWT"
      },
      "source": [
        ""
      ],
      "execution_count": null,
      "outputs": []
    },
    {
      "cell_type": "code",
      "metadata": {
        "id": "eRTP0ArNCFZJ"
      },
      "source": [
        ""
      ],
      "execution_count": null,
      "outputs": []
    },
    {
      "cell_type": "code",
      "metadata": {
        "id": "h1yJeKoFCFce"
      },
      "source": [
        ""
      ],
      "execution_count": null,
      "outputs": []
    },
    {
      "cell_type": "code",
      "metadata": {
        "id": "bO0C_4GGCFf4"
      },
      "source": [
        ""
      ],
      "execution_count": null,
      "outputs": []
    },
    {
      "cell_type": "code",
      "metadata": {
        "id": "4fgQ-wDeCFh9"
      },
      "source": [
        ""
      ],
      "execution_count": null,
      "outputs": []
    },
    {
      "cell_type": "code",
      "metadata": {
        "id": "nSVUpNNxCFkp"
      },
      "source": [
        ""
      ],
      "execution_count": null,
      "outputs": []
    },
    {
      "cell_type": "code",
      "metadata": {
        "id": "WkntmoNnCFnX"
      },
      "source": [
        ""
      ],
      "execution_count": null,
      "outputs": []
    },
    {
      "cell_type": "code",
      "metadata": {
        "id": "oXH_PCjzCFqE"
      },
      "source": [
        ""
      ],
      "execution_count": null,
      "outputs": []
    },
    {
      "cell_type": "code",
      "metadata": {
        "id": "0VVFnsL4CFs4"
      },
      "source": [
        ""
      ],
      "execution_count": null,
      "outputs": []
    },
    {
      "cell_type": "code",
      "metadata": {
        "id": "3jZEFu2FCFxX"
      },
      "source": [
        ""
      ],
      "execution_count": null,
      "outputs": []
    },
    {
      "cell_type": "code",
      "metadata": {
        "colab": {
          "base_uri": "https://localhost:8080/"
        },
        "id": "7ragWrcUIgBZ",
        "outputId": "6d650a62-f786-4e58-cc3e-45e83a953a87"
      },
      "source": [
        "from google.colab import drive\n",
        "drive.mount('/content/drive')"
      ],
      "execution_count": 1,
      "outputs": [
        {
          "output_type": "stream",
          "name": "stdout",
          "text": [
            "Mounted at /content/drive\n"
          ]
        }
      ]
    },
    {
      "cell_type": "code",
      "metadata": {
        "id": "D-jPpH8yIpJJ"
      },
      "source": [
        ""
      ],
      "execution_count": null,
      "outputs": []
    }
  ]
}