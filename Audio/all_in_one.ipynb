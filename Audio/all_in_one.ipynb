{
  "nbformat": 4,
  "nbformat_minor": 0,
  "metadata": {
    "colab": {
      "name": "all_in_one.ipynb",
      "provenance": [],
      "collapsed_sections": [],
      "authorship_tag": "ABX9TyPDKVSucWyunRqSveztE8gp",
      "include_colab_link": true
    },
    "kernelspec": {
      "name": "python3",
      "display_name": "Python 3"
    },
    "language_info": {
      "name": "python"
    }
  },
  "cells": [
    {
      "cell_type": "markdown",
      "metadata": {
        "id": "view-in-github",
        "colab_type": "text"
      },
      "source": [
        "<a href=\"https://colab.research.google.com/github/jithemji/Like_Prediction_Model/blob/main/Audio/all_in_one.ipynb\" target=\"_parent\"><img src=\"https://colab.research.google.com/assets/colab-badge.svg\" alt=\"Open In Colab\"/></a>"
      ]
    },
    {
      "cell_type": "code",
      "metadata": {
        "colab": {
          "base_uri": "https://localhost:8080/"
        },
        "id": "kl_eJUlg8At-",
        "outputId": "d5df1cda-26d3-4623-85e8-2d9352521a3e"
      },
      "source": [
        "pip install youtube_dl"
      ],
      "execution_count": 2,
      "outputs": [
        {
          "output_type": "stream",
          "name": "stdout",
          "text": [
            "Collecting youtube_dl\n",
            "  Downloading youtube_dl-2021.6.6-py2.py3-none-any.whl (1.9 MB)\n",
            "\u001b[K     |████████████████████████████████| 1.9 MB 7.0 MB/s \n",
            "\u001b[?25hInstalling collected packages: youtube-dl\n",
            "Successfully installed youtube-dl-2021.6.6\n"
          ]
        }
      ]
    },
    {
      "cell_type": "code",
      "metadata": {
        "id": "vi96LO2L7aYH"
      },
      "source": [
        "import youtube_dl\n",
        "import os\n",
        "import librosa\n",
        "import numpy as np\n",
        "import pandas as pd\n",
        "import matplotlib.pyplot as plt\n",
        "%matplotlib inline"
      ],
      "execution_count": 3,
      "outputs": []
    },
    {
      "cell_type": "code",
      "metadata": {
        "id": "_hlztO4YlyEj"
      },
      "source": [
        "df1=pd.read_csv('urldata.csv')\n",
        "f_v=[]\n",
        "fv=np.array(f_v)\n",
        "fv.resize(183)\n",
        "columns=['spec_bw_mean','spec_bw_med','spec_bw_std','spec_bw_max','spec_bw_min','spec_rolloff_mean','spec_rolloff_med','spec_rolloff_std','spec_rolloff_max','spec_rolloff_min','spec_cent_mean','spec_cent_med','spec_cent_std','spec_cent_max','spec_cent_min','mfcc1_mean','mfcc2_mean','mfcc3_mean','mfcc4_mean','mfcc5_mean','mfcc6_mean','mfcc7_mean','mfcc8_mean','mfcc9_mean','mfcc10_mean','mfcc11_mean','mfcc12_mean','mfcc13_mean','mfcc14_mean','mfcc15_mean','mfcc16_mean','mfcc17_mean','mfcc18_mean','mfcc19_mean','mfcc20_mean','mfcc1_med','mfcc2_med','mfcc3_med','mfcc4_med','mfcc5_med','mfcc6_med','mfcc7_med','mfcc8_med','mfcc9_med','mfcc10_med','mfcc11_med','mfcc12_med','mfcc13_med','mfcc14_med','mfcc15_med','mfcc16_med','mfcc17_med','mfcc18_med','mfcc19_med','mfcc20_med','mfcc1_std','mfcc2_std','mfcc3_std','mfcc4_std','mfcc5_std','mfcc6_std','mfcc7_std','mfcc8_std','mfcc9_std','mfcc10_std','mfcc11_std','mfcc12_std','mfcc13_std','mfcc14_std','mfcc15_std','mfcc16_std','mfcc17_std','mfcc18_std','mfcc19_std','mfcc20_std','mfcc1_max','mfcc2_max','mfcc3_max','mfcc4_max','mfcc5_max','mfcc6_max','mfcc7_max','mfcc8_max','mfcc9_max','mfcc10_max','mfcc11_max','mfcc12_max','mfcc13_max','mfcc14_max','mfcc15_max','mfcc16_max','mfcc17_max','mfcc18_max','mfcc19_max','mfcc20_max','mfcc1_min','mfcc2_min','mfcc3_min','mfcc4_min','mfcc5_min','mfcc6_min','mfcc7_min','mfcc8_min','mfcc9_min','mfcc10_min','mfcc11_min','mfcc12_min','mfcc13_min','mfcc14_min','mfcc15_min','mfcc16_min','mfcc17_min','mfcc18_min','mfcc19_min','mfcc20_min','chr1_mean','chr2_mean','chr3_mean','chr4_mean','chr5_mean','chr6_mean','chr7_mean','chr8_mean','chr9_mean','chr10_mean','chr11_mean','chr12_mean','chr1_med','chr2_med','chr3_med','chr4_med','chr5_med','chr6_med','chr7_med','chr8_med','chr9_med','chr10_med','chr11_med','chr12_med','chr1_std','chr2_std','chr3_std','chr4_std','chr5_std','chr6_std','chr7_std','chr8_std','chr9_std','chr10_std','chr11_std','chr12_std','chr1_max','chr2_max','chr3_max','chr4_max','chr5_max','chr6_max','chr7_max','chr8_max','chr9_max','chr10_max','chr11_max','chr12_max','chr1_min','chr2_min','chr3_min','chr4_min','chr5_min','chr6_min','chr7_min','chr8_min','chr9_min','chr10_min','chr11_min','chr12_min','zcrr_mean','zcrr_med','zcrr_std','zcrr_max','zcrr_min','zcr','upload_date','views']\n",
        "df=pd.DataFrame(columns=columns)"
      ],
      "execution_count": null,
      "outputs": []
    },
    {
      "cell_type": "code",
      "metadata": {
        "id": "16dmUos2f1rh"
      },
      "source": [
        "for i in range(df1.size):\n",
        "  video=youtube_dl.YoutubeDL({'format':'bestaudio','outtmpl':'audio '+str(i)})\n",
        "  audio=video.extract_info('ytsearch:df1.iloc['+str(i)+']')\n",
        "  path='/content/audio '+str(i)\n",
        "  x,sr=librosa.load(path=path)\n",
        "  fv[0]=np.mean(librosa.feature.spectral_bandwidth(x,sr=sr))\n",
        "  fv[1]=np.median(librosa.feature.spectral_bandwidth(x,sr=sr))\n",
        "  fv[2]=np.std(librosa.feature.spectral_bandwidth(x,sr=sr))\n",
        "  fv[3]=np.max(librosa.feature.spectral_bandwidth(x,sr=sr))\n",
        "  fv[4]=np.min(librosa.feature.spectral_bandwidth(x,sr=sr))\n",
        "  fv[5]=np.mean(librosa.feature.spectral_rolloff(x,sr=sr))\n",
        "  fv[6]=np.median(librosa.feature.spectral_rolloff(x,sr=sr))\n",
        "  fv[7]=np.std(librosa.feature.spectral_rolloff(x,sr=sr))\n",
        "  fv[8]=np.max(librosa.feature.spectral_rolloff(x,sr=sr))\n",
        "  fv[9]=np.min(librosa.feature.spectral_rolloff(x,sr=sr))\n",
        "  fv[10]=np.mean(librosa.feature.spectral_centroid(x,sr=sr))\n",
        "  fv[11]=np.median(librosa.feature.spectral_centroid(x,sr=sr))\n",
        "  fv[12]=np.std(librosa.feature.spectral_centroid(x,sr=sr))\n",
        "  fv[13]=np.max(librosa.feature.spectral_centroid(x,sr=sr))\n",
        "  fv[14]=np.min(librosa.feature.spectral_centroid(x,sr=sr))\n",
        "  fv[15:35]=np.mean(librosa.feature.mfcc(x,sr=sr),axis=1)\n",
        "  fv[35:55]=np.median(librosa.feature.mfcc(x,sr=sr),axis=1)\n",
        "  fv[55:75]=np.std(librosa.feature.mfcc(x,sr=sr),axis=1)\n",
        "  fv[75:95]=np.max(librosa.feature.mfcc(x,sr=sr),axis=1)\n",
        "  fv[95:115]=np.min(librosa.feature.mfcc(x,sr=sr),axis=1)\n",
        "  fv[115:127]=np.mean(librosa.feature.chroma_stft(x,sr=sr),axis=1)\n",
        "  fv[127:139]=np.median(librosa.feature.chroma_stft(x,sr=sr),axis=1)\n",
        "  fv[139:151]=np.std(librosa.feature.chroma_stft(x,sr=sr),axis=1)\n",
        "  fv[151:163]=np.max(librosa.feature.chroma_stft(x,sr=sr),axis=1)\n",
        "  fv[163:175]=np.min(librosa.feature.chroma_stft(x,sr=sr),axis=1)\n",
        "  fv[175]=np.mean(librosa.feature.zero_crossing_rate(x))\n",
        "  fv[180]=librosa.zero_crossings(x).sum()\n",
        "  fv[181]=78654\n",
        "  fv[182]=4564\n",
        "  df.loc[i+1]=fv"
      ],
      "execution_count": null,
      "outputs": []
    },
    {
      "cell_type": "code",
      "metadata": {
        "id": "88460B-Fmg1q"
      },
      "source": [
        "df"
      ],
      "execution_count": null,
      "outputs": []
    },
    {
      "cell_type": "code",
      "metadata": {
        "id": "uIimUmV7mhwL"
      },
      "source": [
        "df.to_csv('feature_dataframe.csv')"
      ],
      "execution_count": 46,
      "outputs": []
    }
  ]
}