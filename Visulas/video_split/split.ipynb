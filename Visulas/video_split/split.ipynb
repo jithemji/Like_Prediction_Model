{
 "cells": [
  {
   "cell_type": "code",
   "execution_count": 12,
   "source": [
    "from selenium import webdriver\r\n",
    "import time\r\n",
    "from bs4 import BeautifulSoup\r\n",
    "\r\n",
    "\r\n",
    "driver = webdriver.Chrome()\r\n",
    "url= \"https://www.youtube.com/watch?v=4OZip0cgOho\"\r\n",
    "#driver.maximize_window()\r\n",
    "driver.get(url)\r\n",
    "\r\n",
    "time.sleep(2)\r\n",
    "content = driver.page_source.encode('utf-8').strip()\r\n",
    "soup = BeautifulSoup(content,\"html.parser\")\r\n",
    "\r\n",
    "today=soup.find('div',class_=\"ytp-chapter-hover-container ytp-exp-chapter-hover-container\")\r\n",
    "if(today==None):\r\n",
    "    print(0)            #Not Splitted\r\n",
    "else:\r\n",
    "    print(1)            #Splitted\r\n",
    "\r\n"
   ],
   "outputs": [
    {
     "output_type": "stream",
     "name": "stdout",
     "text": [
      "0\n"
     ]
    }
   ],
   "metadata": {}
  }
 ],
 "metadata": {
  "orig_nbformat": 4,
  "language_info": {
   "name": "python",
   "version": "3.9.0",
   "mimetype": "text/x-python",
   "codemirror_mode": {
    "name": "ipython",
    "version": 3
   },
   "pygments_lexer": "ipython3",
   "nbconvert_exporter": "python",
   "file_extension": ".py"
  },
  "kernelspec": {
   "name": "python3",
   "display_name": "Python 3.9.0 64-bit"
  },
  "interpreter": {
   "hash": "ee5cc6fef2d70a7e71ee3826687cbd150f18158e0b1eef11d4f4f92bb920e304"
  }
 },
 "nbformat": 4,
 "nbformat_minor": 2
}